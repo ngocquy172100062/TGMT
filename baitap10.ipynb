{
 "cells": [
  {
   "cell_type": "code",
   "execution_count": 3,
   "id": "8b018722-b74e-47ee-ab83-d8f36e44279e",
   "metadata": {},
   "outputs": [
    {
     "name": "stdout",
     "output_type": "stream",
     "text": [
      "[(257.1, 144.77096774193546), (295.0870967741935, 143.58387096774192), (393.616129032258, 145.958064516129), (480.27419354838713, 195.816129032258), (378.18387096774194, 236.17741935483866)]\n"
     ]
    }
   ],
   "source": [
    "# Import thư viện\n",
    "from PIL import Image\n",
    "import matplotlib.pyplot as plt\n",
    "\n",
    "# Đường dẫn ảnh\n",
    "my_path = 'C:/Users/hinhanh/OneDrive/Documents/mixigaming.jpg'\n",
    "\n",
    "# Đọc ảnh\n",
    "im = Image.open(my_path)\n",
    "\n",
    "# Chuyển đổi backend\n",
    "plt.switch_backend('tkagg')\n",
    "\n",
    "# Hiển thị ảnh\n",
    "plt.imshow(im)\n",
    "plt.title('Click on the image to select points')\n",
    "\n",
    "# Sử dụng hàm ginput để chọn điểm trên ảnh\n",
    "points = plt.ginput(5)\n",
    "\n",
    "print(points)\n",
    "\n",
    "# Hiển thị\n",
    "plt.show()"
   ]
  },
  {
   "cell_type": "code",
   "execution_count": 8,
   "id": "71f74053-e5c5-40fa-9709-69341bb63134",
   "metadata": {},
   "outputs": [],
   "source": [
    "# Vẽ lại các điểm đã chọn bằng dấu * màu đỏ\n",
    "plt.close()\n",
    "\n",
    "# Vẽ lại\n",
    "plt.imshow(im)\n",
    "for point in points:\n",
    "    x, y = point\n",
    "    plt.plot(x,y, 'r*')\n",
    "\n",
    "plt.show()"
   ]
  },
  {
   "cell_type": "code",
   "execution_count": null,
   "id": "230094e3-827e-45d9-a34f-82b114d8369c",
   "metadata": {},
   "outputs": [],
   "source": []
  }
 ],
 "metadata": {
  "kernelspec": {
   "display_name": "Python 3 (ipykernel)",
   "language": "python",
   "name": "python3"
  },
  "language_info": {
   "codemirror_mode": {
    "name": "ipython",
    "version": 3
   },
   "file_extension": ".py",
   "mimetype": "text/x-python",
   "name": "python",
   "nbconvert_exporter": "python",
   "pygments_lexer": "ipython3",
   "version": "3.12.4"
  }
 },
 "nbformat": 4,
 "nbformat_minor": 5
}
